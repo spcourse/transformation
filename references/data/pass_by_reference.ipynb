{
 "cells": [
  {
   "cell_type": "markdown",
   "id": "83890f9f",
   "metadata": {
    "deletable": false,
    "editable": false,
    "nbgrader": {
     "cell_type": "markdown",
     "checksum": "dcfce825e927264f05eca720ecc93836",
     "grade": false,
     "grade_id": "cell-6029457e84d500bc",
     "locked": true,
     "schema_version": 3,
     "solution": false,
     "task": false
    }
   },
   "source": [
    "# Pass by reference\n",
    "\n",
    "As you start writing larger programs, there is an important detail about the inner workings of Python (and many other programming languages), that should also be studied. The concept is called *pass by reference*, and it can be the source of a lot of bugs for intermediate level programmers who don't understand it well enough.\n",
    "\n",
    "The core concept is that simple variables, so floats, integers, booleans, are treated differently than complex variables like lists, dictionaries and tuples. These simple variables are called the *primitive types*, while variables that can actually store multiple variables together are called *complex types*.\n",
    "\n",
    "As we've just covered classes, it might be good to know that all complex types are actually just objects. So, when you write `some_list.append(elem)`, you're calling the `append()` method on an instance of the list class. Or, when you write `some_array.shape`, you're accessing the `shape` attribute on an instance of the ndarray class. The difference here is that these objects are built-in in Python or Numpy, while in the previous modules you defined your own objects.\n",
    "\n",
    "Complex data types can contain massive amounts of data, depending on the application. In some cases, this might be a Numpy array containing a very large data set with millions of entries, or it might be list itself containing other lists, and so on. In the previous module you've also seen that objects can store many different attributes together, and some of those attributes might themselves also contain instances of other objects!\n",
    "\n",
    "As complex data types can contain these large amounts of data, they need to be handled differently in order for operations to remain efficient. All complex data types are therefore given their own space somewhere in the memory, where all this data is just stored *once*. If we need a function to work with this data, we can just refer to it using the memory address where the object was stored, which just a *reference* of where to find this data on the computer. This where the name *pass by reference* comes from.\n",
    "\n",
    "When working with your own classes, you've probably even already seen these memory address reference pop up. Below is a quick example. If you run it, you'll see something like `<__main__.Test object at 0x...>`, where the `...` will actually be the memory address where the instance of the test object is stored on your computer."
   ]
  },
  {
   "cell_type": "code",
   "execution_count": null,
   "id": "3b2ac033",
   "metadata": {
    "deletable": false,
    "editable": false,
    "nbgrader": {
     "cell_type": "code",
     "checksum": "d3866a4fa79dabf13ae145e8adcd0035",
     "grade": false,
     "grade_id": "cell-9b4421817e1032b0",
     "locked": true,
     "schema_version": 3,
     "solution": false,
     "task": false
    }
   },
   "outputs": [],
   "source": [
    "class Test:\n",
    "    def __init__(self):\n",
    "        self.attr = 1\n",
    "        \n",
    "t1 = Test()\n",
    "print(t1)"
   ]
  },
  {
   "cell_type": "markdown",
   "id": "e04ce09d",
   "metadata": {
    "deletable": false,
    "editable": false,
    "nbgrader": {
     "cell_type": "markdown",
     "checksum": "2797aaf117b19cbdb0586cc59d36af0f",
     "grade": false,
     "grade_id": "cell-91ca8bca50dc012f",
     "locked": true,
     "schema_version": 3,
     "solution": false,
     "task": false
    }
   },
   "source": [
    "This memory address is the reference we can pass to functions to tell it where to look for the object. In the case of all complex types, it is actually this reference that is stored in the variable. This means that passing the object to another function is very efficient (as you only need the reference), but it can result in difficult bugs if you don't realise that this is what is happening.\n",
    "\n",
    "In the case of primitive types, the value of the primitive type is just stored directly in the variable. So, there no separate place in memory where the value is stored, and we just pass around the value directly. This is called *pass by value*, and it is the way most programmers start out expecting *all* variables to work.\n",
    "\n",
    "## Example cells\n",
    "\n",
    "The description above explains in general terms what pass by reference is, and so you could now predict when you are working with a reference. However, for most students this doesn't click until they see it go \"wrong\" somewhere, as there are subtle cases where this is not so clear. You might even have already come across such a bug somewhere in own code already, or might encounter this somewhere in the next few assignments.\n",
    "\n",
    "The examples below are intended to show you how these things might go wrong. Every example below will make an original value `a` and then make some kind of copy `b` from `a`. The value for the copy `b` is modified, after which the original value `a` is printed. For each of the examples below, *read the code first*, and write down what you expect the output to be, *before running the cell*. Also, indicate if you think this will be an example of pass by reference or pass by value. Beneath each cell there is an explanation of the example, which you can expand by clicking on it."
   ]
  },
  {
   "cell_type": "markdown",
   "id": "565c5283",
   "metadata": {},
   "source": [
    "### Example 1\n",
    "\n",
    "#### Q.1.a What do you think the ouput of this cell will be?\n",
    "\n",
    "*Your answer goes here.*\n",
    "\n",
    "#### Q.1.b Is this an example of pass by reference or pass by value? Explain your answer.\n",
    "\n",
    "*Your answer goes here.*"
   ]
  },
  {
   "cell_type": "code",
   "execution_count": null,
   "id": "d3f8dd81",
   "metadata": {
    "deletable": false,
    "editable": false,
    "nbgrader": {
     "cell_type": "code",
     "checksum": "15df7fd65efb416ab5b00f53a843cbfc",
     "grade": false,
     "grade_id": "cell-5e136f4ee9a46665",
     "locked": true,
     "schema_version": 3,
     "solution": false,
     "task": false
    }
   },
   "outputs": [],
   "source": [
    "a = 7\n",
    "b = a\n",
    "\n",
    "b += 1\n",
    "print(a)"
   ]
  },
  {
   "cell_type": "markdown",
   "id": "2fde2614",
   "metadata": {
    "deletable": false,
    "editable": false,
    "nbgrader": {
     "cell_type": "markdown",
     "checksum": "4ffdd3d65dff43e97f10577d8323bcfc",
     "grade": false,
     "grade_id": "cell-313bdea1f54937f6",
     "locked": true,
     "schema_version": 3,
     "solution": false,
     "task": false
    }
   },
   "source": [
    "<br><details markdown=\"1\"><summary  markdown=\"span\"> <b>Click here for an explanation of the example</b> </summary><br>\n",
    "As this example uses integers, which is a primitive type, this a basic case of pass by value, a. Here `b` just stores the integer value of `a`. So modifying `b` will only modify that value stored in `b`, and not modify the value stored in `a` at all.\n",
    "\n",
    "This is the \"regular\" case for modifying variables.\n",
    "</details><br>"
   ]
  },
  {
   "cell_type": "markdown",
   "id": "96429be2",
   "metadata": {},
   "source": [
    "### Example 2\n",
    "\n",
    "#### Q.2.a What do you think the ouput of this cell will be?\n",
    "\n",
    "*Your answer goes here.*\n",
    "\n",
    "#### Q.2.b Is this an example of pass by reference or pass by value? Explain your answer.\n",
    "\n",
    "*Your answer goes here.*"
   ]
  },
  {
   "cell_type": "code",
   "execution_count": null,
   "id": "0fee3e06",
   "metadata": {
    "deletable": false,
    "editable": false,
    "nbgrader": {
     "cell_type": "code",
     "checksum": "bff47d893015cedc009e98b1b3bf2768",
     "grade": false,
     "grade_id": "cell-dad43f071896d66c",
     "locked": true,
     "schema_version": 3,
     "solution": false,
     "task": false
    }
   },
   "outputs": [],
   "source": [
    "a = [1, 2, 3]\n",
    "b = a\n",
    "\n",
    "b[0] += 1\n",
    "print(a)"
   ]
  },
  {
   "cell_type": "markdown",
   "id": "dbc25e96",
   "metadata": {
    "deletable": false,
    "editable": false,
    "nbgrader": {
     "cell_type": "markdown",
     "checksum": "43e3a521d59e62a9c5647bf4eb6a9c39",
     "grade": false,
     "grade_id": "cell-9a5ab7d1b4313462",
     "locked": true,
     "schema_version": 3,
     "solution": false,
     "task": false
    }
   },
   "source": [
    "<br><details markdown=\"1\"><summary  markdown=\"span\"> <b>Click here for an explanation of the example</b> </summary><br>\n",
    "Here the example uses lists, which is a complex type, meaning this will be passed by reference. The variable `a` now stores a reference to place in memory where the whole list is stored, and the variable `b` will store **that same reference**. As a result, modifying the values stored in the list using `b`, will also change the list that `a` is refering to.\n",
    "\n",
    "Passing around the reference is much more efficient than making a complete copy of the list, especially if the list contains a lot of data, but can also lead to unpredictable changes in your code.\n",
    "</details><br>"
   ]
  },
  {
   "cell_type": "markdown",
   "id": "514bf6f0",
   "metadata": {},
   "source": [
    "### Example 3\n",
    "\n",
    "#### Q.3.a What do you think the ouput of this cell will be?\n",
    "\n",
    "*Your answer goes here.*\n",
    "\n",
    "#### Q.3.b Is this an example of pass by reference or pass by value? Explain your answer.\n",
    "\n",
    "*Your answer goes here.*"
   ]
  },
  {
   "cell_type": "code",
   "execution_count": null,
   "id": "4eb1d9ac",
   "metadata": {
    "deletable": false,
    "editable": false,
    "nbgrader": {
     "cell_type": "code",
     "checksum": "d0d3797e08109191a14fb7d8928a9cfb",
     "grade": false,
     "grade_id": "cell-5149ebd1c881e747",
     "locked": true,
     "schema_version": 3,
     "solution": false,
     "task": false
    }
   },
   "outputs": [],
   "source": [
    "a = [1, 2, 3]\n",
    "b = a[:]\n",
    "\n",
    "b[0] += 1\n",
    "print(a)"
   ]
  },
  {
   "cell_type": "markdown",
   "id": "651ee6c5",
   "metadata": {
    "deletable": false,
    "editable": false,
    "nbgrader": {
     "cell_type": "markdown",
     "checksum": "bb1ac03161f98fef07b5133157086c67",
     "grade": false,
     "grade_id": "cell-8ecc0b00c75f698b",
     "locked": true,
     "schema_version": 3,
     "solution": false,
     "task": false
    }
   },
   "source": [
    "<br><details markdown=\"1\"><summary  markdown=\"span\"> <b>Click here for an explanation of the example</b> </summary><br>\n",
    "The notation `[:]` creates a *slice* of the from the start to the end of the list. Slices always create a *new* list, as, for example, the slice `[1:3]` is clearly a different list than the original, and so should be stored separately.\n",
    "\n",
    "Because the slice from start to end creates a new list, this ensures that `b` is actually copy of `a`, with its own reference. As a result, modifying `b` no longer modifies `a`.\n",
    "</details><br>"
   ]
  },
  {
   "cell_type": "markdown",
   "id": "9c6c062d",
   "metadata": {},
   "source": [
    "### Example 4\n",
    "\n",
    "#### Q.4.a What do you think the ouput of this cell will be?\n",
    "\n",
    "*Your answer goes here.*\n",
    "\n",
    "#### Q.4.b Is this an example of pass by reference or pass by value? Explain your answer.\n",
    "\n",
    "*Your answer goes here.*"
   ]
  },
  {
   "cell_type": "code",
   "execution_count": null,
   "id": "e500828f",
   "metadata": {
    "deletable": false,
    "editable": false,
    "nbgrader": {
     "cell_type": "code",
     "checksum": "60ae13513419d98dcc52cb210f76d26a",
     "grade": false,
     "grade_id": "cell-5c6fe4443b3a0556",
     "locked": true,
     "schema_version": 3,
     "solution": false,
     "task": false
    }
   },
   "outputs": [],
   "source": [
    "a = [[1, 2, 3], [4, 5, 6]]\n",
    "b = a[:]\n",
    "\n",
    "b[0][0] += 1\n",
    "print(a)"
   ]
  },
  {
   "cell_type": "markdown",
   "id": "441ad16d",
   "metadata": {
    "deletable": false,
    "editable": false,
    "nbgrader": {
     "cell_type": "markdown",
     "checksum": "4a6d54cfa1f21c66ad433c6e8187e563",
     "grade": false,
     "grade_id": "cell-824416d7a2ec3537",
     "locked": true,
     "schema_version": 3,
     "solution": false,
     "task": false
    }
   },
   "source": [
    "<br><details markdown=\"1\"><summary  markdown=\"span\"> <b>Click here for an explanation of the example</b> </summary><br>\n",
    "While the notation `[:]` does create a copy of the list `a`, this is what is called a **shallow copy**. This means it only creates a new list for the outer list. The two inner lists of `a` both have their own reference, an so `b` becomes a new outer list, containing the same two references for the inner lists. Therefore, modifying one of the inner lists of `b`, still also modifies the contents of `a`. Note that if we would have only modified the outer list, by, for example, appending something to `b`, we would not have changed `a` here.\n",
    "\n",
    "In general, any complex type has its own reference, and so some complex data might be reference to an object containing other references. Making a copy will usually only make a shallow copy of the object, which leaves any reference contained within the object the same. As a result, changing the content of any inner reference in the copy will also modify the original object, as the original object uses those same inner references.\n",
    "</details><br>"
   ]
  },
  {
   "cell_type": "markdown",
   "id": "867a27e1",
   "metadata": {},
   "source": [
    "### Example 5\n",
    "\n",
    "#### Q.5.a What do you think the ouput of this cell will be?\n",
    "\n",
    "*Your answer goes here.*\n",
    "\n",
    "#### Q.5.b Is this an example of pass by reference or pass by value? Explain your answer.\n",
    "\n",
    "*Your answer goes here.*"
   ]
  },
  {
   "cell_type": "code",
   "execution_count": null,
   "id": "ddd432fc",
   "metadata": {
    "deletable": false,
    "editable": false,
    "nbgrader": {
     "cell_type": "code",
     "checksum": "fedaba5477c9138126f164905ae8d33b",
     "grade": false,
     "grade_id": "cell-ffcc5363bc25929a",
     "locked": true,
     "schema_version": 3,
     "solution": false,
     "task": false
    }
   },
   "outputs": [],
   "source": [
    "import copy\n",
    "\n",
    "a = [[1, 2, 3], [4, 5, 6]]\n",
    "b = copy.deepcopy(a)\n",
    "\n",
    "b[0][0] += 1\n",
    "print(a)"
   ]
  },
  {
   "cell_type": "markdown",
   "id": "d10707d9",
   "metadata": {
    "deletable": false,
    "editable": false,
    "nbgrader": {
     "cell_type": "markdown",
     "checksum": "2330dc6082160e42e02c909200712237",
     "grade": false,
     "grade_id": "cell-be4240f663f4fa79",
     "locked": true,
     "schema_version": 3,
     "solution": false,
     "task": false
    }
   },
   "source": [
    "<br><details markdown=\"1\"><summary  markdown=\"span\"> <b>Click here for an explanation of the example</b> </summary><br>\n",
    "The easiest solution to this problem is to use the `deepcopy()` function from the `copy` library. As the name implies, function does not just create a shallow copy, but checks for any refences inside the copied object, and then create a **deepcopy** of those references too. This means that a deepcopy would still work for references, inside references, inside references, as so on. The `deepcopy()` function recursively checks all the references inside the object until everyhing is copied as primitive types.\n",
    "\n",
    "Note that if you want to use the `copy` library for your own objects, you'll need to define the functions `__copy__()` and `__deepcopy__()` in your own class. These definitions should describe how to make a shallow or deep copied instance of own object. For built-in complex types like lists and dictionaries, these functions have already been defined, and so you can already use the `copy` library to create deepcopies when you're working with several lists and/or dictionaries combined together.\n",
    "</details><br>"
   ]
  },
  {
   "cell_type": "markdown",
   "id": "d0d905af",
   "metadata": {},
   "source": [
    "### Example 6\n",
    "\n",
    "#### Q.6.a What do you think the ouput of this cell will be?\n",
    "\n",
    "*Your answer goes here.*\n",
    "\n",
    "#### Q.6.b Is this an example of pass by reference or pass by value? Explain your answer.\n",
    "\n",
    "*Your answer goes here.*"
   ]
  },
  {
   "cell_type": "code",
   "execution_count": null,
   "id": "ec8b418d",
   "metadata": {
    "deletable": false,
    "editable": false,
    "nbgrader": {
     "cell_type": "code",
     "checksum": "3d378220dca38dad2767990abaeabc4e",
     "grade": false,
     "grade_id": "cell-17d64f8cdb8f27a1",
     "locked": true,
     "schema_version": 3,
     "solution": false,
     "task": false
    }
   },
   "outputs": [],
   "source": [
    "def add_x(coords, amount):\n",
    "    coords['x'] += amount\n",
    "    return coords\n",
    "\n",
    "a = {'x': 3, 'y': 5, 'z': 0}\n",
    "b = add_x(a, 1)\n",
    "\n",
    "print(a)"
   ]
  },
  {
   "cell_type": "markdown",
   "id": "ab10c321",
   "metadata": {
    "deletable": false,
    "editable": false,
    "nbgrader": {
     "cell_type": "markdown",
     "checksum": "266b4cec3f43c4b0ccda36e1d11cb175",
     "grade": false,
     "grade_id": "cell-7c9a7c01e7ee7679",
     "locked": true,
     "schema_version": 3,
     "solution": false,
     "task": false
    }
   },
   "source": [
    "<br><details markdown=\"1\"><summary  markdown=\"span\"> <b>Click here for an explanation of the example</b> </summary><br>\n",
    "Dictionaries are complex objects, just like lists, so creating a dictionary will also create a reference. Calling a function with certain variables as arguments, will also just pass the value or the reference to function arguments. Therefore, modifying complex types inside a function, will generally modify them outside of the function too.\n",
    "\n",
    "This example does not really show anything different than before, as this is just a simple case of pass by reference. However, when passing references to functions it can be a lot less clear that the original value can also get modified. As result, this is very common way to create bugs with references, and so it is important to understant that *pass by references applies to function arguments too*.\n",
    "\n",
    "<br>\n",
    "\n",
    "***Note:*** Exactly because of this potential problem, the design and style of this example function are *not* good. In general, you want to be as clear as possible about whether your function creates a new reference and returns that new modified reference, or instead modifies the input arguments directly. If your function modifies the input directly, then this should be clear from the function name and docstring. That way, you minimize the chance others (or you yourself) make reference mistakes when using the function.\n",
    "\n",
    "</details><br>"
   ]
  },
  {
   "cell_type": "markdown",
   "id": "250f9032",
   "metadata": {},
   "source": [
    "### Example 7\n",
    "\n",
    "#### Q.7.a What do you think the ouput of this cell will be?\n",
    "\n",
    "*Your answer goes here.*\n",
    "\n",
    "#### Q.7.b Is this an example of pass by reference or pass by value? Explain your answer.\n",
    "\n",
    "*Your answer goes here.*"
   ]
  },
  {
   "cell_type": "code",
   "execution_count": null,
   "id": "71948871",
   "metadata": {
    "deletable": false,
    "editable": false,
    "nbgrader": {
     "cell_type": "code",
     "checksum": "8bc7ed1cda125d3aba2fd0b32332baf4",
     "grade": false,
     "grade_id": "cell-6932f081783bb0e5",
     "locked": true,
     "schema_version": 3,
     "solution": false,
     "task": false
    }
   },
   "outputs": [],
   "source": [
    "lst = [3, 6, 2, 4, 8, 7]\n",
    "\n",
    "for elem in lst:\n",
    "    if elem > 5:\n",
    "        lst.remove(elem)\n",
    "        lst.append(1)\n",
    "    else:\n",
    "        print(elem)\n"
   ]
  },
  {
   "cell_type": "markdown",
   "id": "837013c6",
   "metadata": {
    "deletable": false,
    "editable": false,
    "nbgrader": {
     "cell_type": "markdown",
     "checksum": "8ab71f67b30aa5c5011ca4b12a592e26",
     "grade": false,
     "grade_id": "cell-633a8935399d1a27",
     "locked": true,
     "schema_version": 3,
     "solution": false,
     "task": false
    }
   },
   "source": [
    "<br><details markdown=\"1\"><summary  markdown=\"span\"> <b>Click here for an explanation of the example</b> </summary><br>\n",
    "This is a really hard example to predict correctly, but this is shows exactly why you never want to modify a list *while also looping over that same list*. By removing elements from the list, the indices of the list get updated, meaning the loop index will no longer point to the correct element, causing some elements in the list to get skipped by the loop. Note that appending things to the list will also extend your loop, and so appending while looping could also cause infinite loops.\n",
    "\n",
    "This example also is exactly why you had to use a separate list in the previous assignment when removing creatures that had died from list of creatures. If you would have removed then from the same list you're looping over, certain dead creatures would not have been removed correctly, because they would have been skipped in the loop.\n",
    "</details><br>"
   ]
  },
  {
   "cell_type": "markdown",
   "id": "1f55d337",
   "metadata": {
    "deletable": false,
    "editable": false,
    "nbgrader": {
     "cell_type": "markdown",
     "checksum": "240bf91b82b99d59dc0ca6479c0f2d2d",
     "grade": false,
     "grade_id": "cell-c549b3694c082228",
     "locked": true,
     "schema_version": 3,
     "solution": false,
     "task": false
    }
   },
   "source": [
    "## References in your own assignments\n",
    "\n",
    "When working on the next few assignments, try to keep these few examples in back of your mind. So, when passing variables to functions, ask yourself if this is a complex type with a reference, or just a primitive type. Then, consider if this function might change that reference, and if that would cause a problem in your case, or not. Finally, if changing the original might cause a problem, consider if you just need a shallow copy, or full deep copy of all the inner reference is required.\n",
    "\n",
    "The trade-off here is efficiency. If your function does not modify the input, or the input can just be modified without problem, then passing the reference is *much* more efficient. A deep copy will never encounter any pass-by-reference issues, but this can be a very expensive operation to do every time you call a function on a large data set. The import takeaway is to know these problems can arise, and to consider if a copy is really needed.\n",
    "\n"
   ]
  }
 ],
 "metadata": {
  "kernelspec": {
   "display_name": "Python 3 (ipykernel)",
   "language": "python",
   "name": "python3"
  },
  "language_info": {
   "codemirror_mode": {
    "name": "ipython",
    "version": 3
   },
   "file_extension": ".py",
   "mimetype": "text/x-python",
   "name": "python",
   "nbconvert_exporter": "python",
   "pygments_lexer": "ipython3",
   "version": "3.10.12"
  }
 },
 "nbformat": 4,
 "nbformat_minor": 5
}
